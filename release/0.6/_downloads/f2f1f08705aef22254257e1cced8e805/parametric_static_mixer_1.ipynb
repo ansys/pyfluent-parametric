{
  "cells": [
    {
      "cell_type": "code",
      "execution_count": null,
      "metadata": {
        "collapsed": false
      },
      "outputs": [],
      "source": [
        "%matplotlib inline"
      ]
    },
    {
      "cell_type": "markdown",
      "metadata": {},
      "source": [
        "\n# Parametric study workflow\nThis example shows how you can use the parametric study workflow to analyze a\nstatic mixer.\n"
      ]
    },
    {
      "cell_type": "code",
      "execution_count": null,
      "metadata": {
        "collapsed": false
      },
      "outputs": [],
      "source": [
        "from pathlib import Path\n\nimport ansys.fluent.core as pyfluent\nfrom ansys.fluent.core import examples\n\nfrom ansys.fluent.parametric import ParametricProject, ParametricStudy\n\n# sphinx_gallery_thumbnail_path = '_static/DP_table.png'"
      ]
    },
    {
      "cell_type": "markdown",
      "metadata": {},
      "source": [
        "## Perform required imports\nPerform the required imports.\n\n"
      ]
    },
    {
      "cell_type": "markdown",
      "metadata": {},
      "source": [
        "## Launch Fluent\nLaunch Fluent in 3D and double precision.\n\n"
      ]
    },
    {
      "cell_type": "code",
      "execution_count": null,
      "metadata": {
        "collapsed": false
      },
      "outputs": [],
      "source": [
        "solver_session = pyfluent.launch_fluent(\n    precision=\"double\", processor_count=2, mode=\"solver\"\n)"
      ]
    },
    {
      "cell_type": "markdown",
      "metadata": {},
      "source": [
        "## Download and read files\nDownload the files for this example and read the case for the static mixer.\n\n"
      ]
    },
    {
      "cell_type": "code",
      "execution_count": null,
      "metadata": {
        "collapsed": false
      },
      "outputs": [],
      "source": [
        "import_filename = examples.download_file(\n    \"Static_Mixer_main.cas.h5\", \"pyfluent/static_mixer\"\n)\n\nsolver_session.tui.file.read_case(import_filename)"
      ]
    },
    {
      "cell_type": "markdown",
      "metadata": {},
      "source": [
        "## Set iterations\nSet the number of iterations to 100.\n\n"
      ]
    },
    {
      "cell_type": "code",
      "execution_count": null,
      "metadata": {
        "collapsed": false
      },
      "outputs": [],
      "source": [
        "solver_session.tui.solve.set.number_of_iterations(\"100\")"
      ]
    },
    {
      "cell_type": "markdown",
      "metadata": {},
      "source": [
        "## Create input parameters\nEnable parameter creation in the TUI and then create input parameters for\nthe velocity and temperatures of inlets 1 and 2:\nParameter values:\nInlet1: velocity (inlet1_vel) 0.5 m/s and temperature (inlet1_temp) at 300 K\nInlet2: velocity (inlet2_vel) 0.5 m/s and temperature (inlet2_temp) at 350 K\n\n"
      ]
    },
    {
      "cell_type": "code",
      "execution_count": null,
      "metadata": {
        "collapsed": false
      },
      "outputs": [],
      "source": [
        "solver_session.tui.define.parameters.enable_in_TUI(\"yes\")\n\nsolver_session.tui.define.boundary_conditions.set.velocity_inlet(\n    \"inlet1\", (), \"vmag\", \"yes\", \"inlet1_vel\", 1, \"quit\"\n)\n\nsolver_session.tui.define.boundary_conditions.set.velocity_inlet(\n    \"inlet1\", (), \"temperature\", \"yes\", \"inlet1_temp\", 300, \"quit\"\n)\n\nsolver_session.tui.define.boundary_conditions.set.velocity_inlet(\n    \"inlet2\", (), \"vmag\", \"yes\", \"no\", \"inlet2_vel\", 1, \"quit\"\n)\n\nsolver_session.tui.define.boundary_conditions.set.velocity_inlet(\n    \"inlet2\", (), \"temperature\", \"yes\", \"no\", \"inlet2_temp\", 350, \"quit\"\n)"
      ]
    },
    {
      "cell_type": "markdown",
      "metadata": {},
      "source": [
        "## Create output parameters\nCreate output parameters named ``outlet-temp-avg`` and ``outlet-vel-avg``\nusing report definitions.\n\n"
      ]
    },
    {
      "cell_type": "code",
      "execution_count": null,
      "metadata": {
        "collapsed": false
      },
      "outputs": [],
      "source": [
        "solver_session.solution.report_definitions.surface[\"outlet-temp-avg\"] = {}\nsolver_session.solution.report_definitions.surface[\n    \"outlet-temp-avg\"\n].report_type = \"surface-areaavg\"\nsolver_session.solution.report_definitions.surface[\n    \"outlet-temp-avg\"\n].field = \"temperature\"\nsolver_session.solution.report_definitions.surface[\"outlet-temp-avg\"].surface_names = [\n    \"outlet\"\n]\n\nsolver_session.solution.report_definitions.surface[\"outlet-vel-avg\"] = {}\nsolver_session.solution.report_definitions.surface[\n    \"outlet-vel-avg\"\n].report_type = \"surface-areaavg\"\nsolver_session.solution.report_definitions.surface[\n    \"outlet-vel-avg\"\n].field = \"velocity-magnitude\"\nsolver_session.solution.report_definitions.surface[\"outlet-vel-avg\"].surface_names = [\n    \"outlet\"\n]\n\nsolver_session.tui.define.parameters.enable_in_TUI(\"yes\")\nsolver_session.tui.define.parameters.output_parameters.create(\n    \"report-definition\", \"outlet-temp-avg\"\n)\nsolver_session.tui.define.parameters.output_parameters.create(\n    \"report-definition\", \"outlet-vel-avg\"\n)"
      ]
    },
    {
      "cell_type": "markdown",
      "metadata": {},
      "source": [
        "## Enable convergence condition check\nEnable the convergence condition check.\n\n"
      ]
    },
    {
      "cell_type": "code",
      "execution_count": null,
      "metadata": {
        "collapsed": false
      },
      "outputs": [],
      "source": [
        "solver_session.tui.solve.monitors.residual.criterion_type(\"0\")"
      ]
    },
    {
      "cell_type": "markdown",
      "metadata": {},
      "source": [
        "## Write case\nWrite the case with all settings in place.\n\n"
      ]
    },
    {
      "cell_type": "code",
      "execution_count": null,
      "metadata": {
        "collapsed": false
      },
      "outputs": [],
      "source": [
        "case_path = str(Path(pyfluent.EXAMPLES_PATH) / \"Static_Mixer_Parameters.cas.h5\")\nsolver_session.tui.file.write_case(case_path)"
      ]
    },
    {
      "cell_type": "markdown",
      "metadata": {},
      "source": [
        "## Initialize parametric study\nInitialize a parametric design point study from a Fluent session.\n\n"
      ]
    },
    {
      "cell_type": "code",
      "execution_count": null,
      "metadata": {
        "collapsed": false
      },
      "outputs": [],
      "source": [
        "study_1 = ParametricStudy(solver_session.parametric_studies).initialize()"
      ]
    },
    {
      "cell_type": "markdown",
      "metadata": {},
      "source": [
        "<img src=\"file://_static/DP_table_011.png\" width=\"500pt\" align=\"center\">\n\n"
      ]
    },
    {
      "cell_type": "markdown",
      "metadata": {},
      "source": [
        "## Access and modify input parameters\nAccess and modify the input parameters of the base design point.\n\n"
      ]
    },
    {
      "cell_type": "code",
      "execution_count": null,
      "metadata": {
        "collapsed": false
      },
      "outputs": [],
      "source": [
        "input_parameters_update = study_1.design_points[\"Base DP\"].input_parameters\ninput_parameters_update[\"inlet1_vel\"] = 0.5\nstudy_1.design_points[\"Base DP\"].input_parameters = input_parameters_update"
      ]
    },
    {
      "cell_type": "markdown",
      "metadata": {},
      "source": [
        "## Update current design point\nUpdate the current design point.\n\n"
      ]
    },
    {
      "cell_type": "code",
      "execution_count": null,
      "metadata": {
        "collapsed": false
      },
      "outputs": [],
      "source": [
        "study_1.update_current_design_point()"
      ]
    },
    {
      "cell_type": "markdown",
      "metadata": {},
      "source": [
        "## Add design point\nAdd a design point.\n\n"
      ]
    },
    {
      "cell_type": "code",
      "execution_count": null,
      "metadata": {
        "collapsed": false
      },
      "outputs": [],
      "source": [
        "design_point_1 = study_1.add_design_point()\ndesign_point_1_input_parameters = study_1.design_points[\"DP1\"].input_parameters\ndesign_point_1_input_parameters[\"inlet1_temp\"] = 500\ndesign_point_1_input_parameters[\"inlet1_vel\"] = 1\ndesign_point_1_input_parameters[\"inlet2_vel\"] = 1\nstudy_1.design_points[\"DP1\"].input_parameters = design_point_1_input_parameters"
      ]
    },
    {
      "cell_type": "markdown",
      "metadata": {},
      "source": [
        "## Duplicate design point\nDuplicate design point 1 to create design point 2.\n\n"
      ]
    },
    {
      "cell_type": "code",
      "execution_count": null,
      "metadata": {
        "collapsed": false
      },
      "outputs": [],
      "source": [
        "design_point_2 = study_1.duplicate_design_point(design_point_1)"
      ]
    },
    {
      "cell_type": "markdown",
      "metadata": {},
      "source": [
        "## Update all design points\nUpdate all design points for study 1.\n\n"
      ]
    },
    {
      "cell_type": "code",
      "execution_count": null,
      "metadata": {
        "collapsed": false
      },
      "outputs": [],
      "source": [
        "study_1.update_all_design_points()"
      ]
    },
    {
      "cell_type": "markdown",
      "metadata": {},
      "source": [
        "<img src=\"file://_static/DP_table_012.png\" width=\"500pt\" align=\"center\">\n\n"
      ]
    },
    {
      "cell_type": "markdown",
      "metadata": {},
      "source": [
        "## Export design point table\nExport the design point table to a CSV file.\n\n"
      ]
    },
    {
      "cell_type": "code",
      "execution_count": null,
      "metadata": {
        "collapsed": false
      },
      "outputs": [],
      "source": [
        "design_point_table = str(\n    Path(pyfluent.EXAMPLES_PATH) / \"design_point_table_study_1.csv\"\n)\nstudy_1.export_design_table(design_point_table)"
      ]
    },
    {
      "cell_type": "markdown",
      "metadata": {},
      "source": [
        "## Delete design point\nDelete design point 1.\n\n"
      ]
    },
    {
      "cell_type": "code",
      "execution_count": null,
      "metadata": {
        "collapsed": false
      },
      "outputs": [],
      "source": [
        "study_1.delete_design_points([design_point_1])"
      ]
    },
    {
      "cell_type": "markdown",
      "metadata": {},
      "source": [
        "## Create parametric study\nCreate another parametric study by duplicating the current one.\n\n"
      ]
    },
    {
      "cell_type": "code",
      "execution_count": null,
      "metadata": {
        "collapsed": false
      },
      "outputs": [],
      "source": [
        "study_2 = study_1.duplicate()"
      ]
    },
    {
      "cell_type": "markdown",
      "metadata": {},
      "source": [
        "## Rename new parametric study\nRename the newly created parametric study.\n\n"
      ]
    },
    {
      "cell_type": "code",
      "execution_count": null,
      "metadata": {
        "collapsed": false
      },
      "outputs": [],
      "source": [
        "study_2.rename(\"New Study\")"
      ]
    },
    {
      "cell_type": "markdown",
      "metadata": {},
      "source": [
        "## Delete old parametric study\nDelete the old parametric study.\n\n"
      ]
    },
    {
      "cell_type": "code",
      "execution_count": null,
      "metadata": {
        "collapsed": false
      },
      "outputs": [],
      "source": [
        "study_1.delete()"
      ]
    },
    {
      "cell_type": "markdown",
      "metadata": {},
      "source": [
        "## Save parametric project and close Fluent\nSave the parametric project and close Fluent.\n\n"
      ]
    },
    {
      "cell_type": "code",
      "execution_count": null,
      "metadata": {
        "collapsed": false
      },
      "outputs": [],
      "source": [
        "project_filepath = str(Path(pyfluent.EXAMPLES_PATH) / \"static_mixer_study.flprj\")\n\nsolver_session.tui.file.parametric_project.save_as(project_filepath)\n\nsolver_session.exit()"
      ]
    },
    {
      "cell_type": "markdown",
      "metadata": {},
      "source": [
        "## Launch Fluent and read saved project\nLaunch Fluent once again and read the previously saved project.\n\n"
      ]
    },
    {
      "cell_type": "code",
      "execution_count": null,
      "metadata": {
        "collapsed": false
      },
      "outputs": [],
      "source": [
        "solver_session = pyfluent.launch_fluent(\n    precision=\"double\", processor_count=2, mode=\"solver\"\n)\nproject_filepath_read = str(Path(pyfluent.EXAMPLES_PATH) / \"static_mixer_study.flprj\")\n\nproj = ParametricProject(\n    solver_session.file.parametric_project,\n    solver_session.parametric_studies,\n    project_filepath_read,\n)"
      ]
    },
    {
      "cell_type": "markdown",
      "metadata": {},
      "source": [
        "## Save current project\nSave the current project.\n\n"
      ]
    },
    {
      "cell_type": "code",
      "execution_count": null,
      "metadata": {
        "collapsed": false
      },
      "outputs": [],
      "source": [
        "proj.save()"
      ]
    },
    {
      "cell_type": "markdown",
      "metadata": {},
      "source": [
        "## Save current project as a different project\nSave the current project as a different project.\n\n"
      ]
    },
    {
      "cell_type": "code",
      "execution_count": null,
      "metadata": {
        "collapsed": false
      },
      "outputs": [],
      "source": [
        "project_filepath_save_as = str(\n    Path(pyfluent.EXAMPLES_PATH) / \"static_mixer_study_save_as.flprj\"\n)\nproj.save_as(project_filepath=project_filepath_save_as)"
      ]
    },
    {
      "cell_type": "markdown",
      "metadata": {},
      "source": [
        "## Export current project\nExport the current project.\n\n"
      ]
    },
    {
      "cell_type": "code",
      "execution_count": null,
      "metadata": {
        "collapsed": false
      },
      "outputs": [],
      "source": [
        "project_filepath_export = str(\n    Path(pyfluent.EXAMPLES_PATH) / \"static_mixer_study_export.flprj\"\n)\nproj.export(project_filepath=project_filepath_export)"
      ]
    },
    {
      "cell_type": "markdown",
      "metadata": {},
      "source": [
        "## Archive current project\nArchive the current project.\n\n"
      ]
    },
    {
      "cell_type": "code",
      "execution_count": null,
      "metadata": {
        "collapsed": false
      },
      "outputs": [],
      "source": [
        "proj.archive()"
      ]
    },
    {
      "cell_type": "markdown",
      "metadata": {},
      "source": [
        "## Close Fluent\nClose Fluent.\n\n"
      ]
    },
    {
      "cell_type": "code",
      "execution_count": null,
      "metadata": {
        "collapsed": false
      },
      "outputs": [],
      "source": [
        "solver_session.exit()"
      ]
    }
  ],
  "metadata": {
    "kernelspec": {
      "display_name": "Python 3",
      "language": "python",
      "name": "python3"
    },
    "language_info": {
      "codemirror_mode": {
        "name": "ipython",
        "version": 3
      },
      "file_extension": ".py",
      "mimetype": "text/x-python",
      "name": "python",
      "nbconvert_exporter": "python",
      "pygments_lexer": "ipython3",
      "version": "3.9.16"
    }
  },
  "nbformat": 4,
  "nbformat_minor": 0
}