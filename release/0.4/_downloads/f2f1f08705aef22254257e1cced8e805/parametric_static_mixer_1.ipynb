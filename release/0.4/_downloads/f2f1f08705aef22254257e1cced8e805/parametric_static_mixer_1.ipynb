{
  "cells": [
    {
      "cell_type": "code",
      "execution_count": null,
      "metadata": {
        "collapsed": false
      },
      "outputs": [],
      "source": [
        "%matplotlib inline"
      ]
    },
    {
      "cell_type": "markdown",
      "metadata": {},
      "source": [
        "\n# Parametric Study Workflow\n\nThis parametric study workflow example performs these steps\n\n- Reads a case file and data file\n- Creates input and output parameters\n- Instantiates a design point study\n- Accesses and modifies the input parameters of\n  the base design point (DP)\n- Updates design points\n- Creates, updates, and deletes more DPs\n- Creates, renames, duplicates and deletes parametric studies\n"
      ]
    },
    {
      "cell_type": "code",
      "execution_count": null,
      "metadata": {
        "collapsed": false
      },
      "outputs": [],
      "source": [
        "# sphinx_gallery_thumbnail_path = '_static/DP_table.png'"
      ]
    },
    {
      "cell_type": "code",
      "execution_count": null,
      "metadata": {
        "collapsed": false
      },
      "outputs": [],
      "source": [
        "from pathlib import Path\n\nimport ansys.fluent.core as pyfluent\nfrom ansys.fluent.core import examples\n\nfrom ansys.fluent.parametric import ParametricProject, ParametricStudy"
      ]
    },
    {
      "cell_type": "markdown",
      "metadata": {},
      "source": [
        "Launch Fluent in 3D and double precision\n\n"
      ]
    },
    {
      "cell_type": "code",
      "execution_count": null,
      "metadata": {
        "collapsed": false
      },
      "outputs": [],
      "source": [
        "session = pyfluent.launch_fluent(precision=\"double\", processor_count=2)"
      ]
    },
    {
      "cell_type": "markdown",
      "metadata": {},
      "source": [
        "Read the hopper/mixer case\n\n"
      ]
    },
    {
      "cell_type": "code",
      "execution_count": null,
      "metadata": {
        "collapsed": false
      },
      "outputs": [],
      "source": [
        "import_filename = examples.download_file(\n    \"Static_Mixer_main.cas.h5\", \"pyfluent/static_mixer\"\n)\n\nsession.solver.tui.file.read_case(case_file_name=import_filename)"
      ]
    },
    {
      "cell_type": "markdown",
      "metadata": {},
      "source": [
        "Set number of iterations to 100\n\n"
      ]
    },
    {
      "cell_type": "code",
      "execution_count": null,
      "metadata": {
        "collapsed": false
      },
      "outputs": [],
      "source": [
        "session.solver.tui.solve.set.number_of_iterations(\"100\")"
      ]
    },
    {
      "cell_type": "markdown",
      "metadata": {},
      "source": [
        "Create input parameters after enabling parameter creation in the TUI:\nParameter values:\nInlet1: velocity (inlet1_vel) 0.5 m/s and temperature (inlet1_temp) at 300 K\nInlet2: velocity (inlet2_vel) 0.5 m/s and temperature (inlet2_temp) at 350 K\n\n"
      ]
    },
    {
      "cell_type": "code",
      "execution_count": null,
      "metadata": {
        "collapsed": false
      },
      "outputs": [],
      "source": [
        "session.solver.tui.define.parameters.enable_in_TUI(\"yes\")\n\nsession.solver.tui.define.boundary_conditions.set.velocity_inlet(\n    \"inlet1\", (), \"vmag\", \"yes\", \"inlet1_vel\", 1, \"quit\"\n)\nsession.solver.tui.define.boundary_conditions.set.velocity_inlet(\n    \"inlet1\", (), \"temperature\", \"yes\", \"inlet1_temp\", 300, \"quit\"\n)\n\nsession.solver.tui.define.boundary_conditions.set.velocity_inlet(\n    \"inlet2\", (), \"vmag\", \"yes\", \"no\", \"inlet2_vel\", 1, \"quit\"\n)\nsession.solver.tui.define.boundary_conditions.set.velocity_inlet(\n    \"inlet2\", (), \"temperature\", \"yes\", \"no\", \"inlet2_temp\", 350, \"quit\"\n)"
      ]
    },
    {
      "cell_type": "markdown",
      "metadata": {},
      "source": [
        "Create output parameters using report definitions\n\n"
      ]
    },
    {
      "cell_type": "code",
      "execution_count": null,
      "metadata": {
        "collapsed": false
      },
      "outputs": [],
      "source": [
        "session.solver.root.solution.report_definitions.surface[\"outlet-temp-avg\"] = {}\nsession.solver.root.solution.report_definitions.surface[\n    \"outlet-temp-avg\"\n].report_type = \"surface-areaavg\"\nsession.solver.root.solution.report_definitions.surface[\n    \"outlet-temp-avg\"\n].field = \"temperature\"\nsession.solver.root.solution.report_definitions.surface[\n    \"outlet-temp-avg\"\n].surface_names = [\"outlet\"]\n\nsession.solver.root.solution.report_definitions.surface[\"outlet-vel-avg\"] = {}\nsession.solver.root.solution.report_definitions.surface[\n    \"outlet-vel-avg\"\n].report_type = \"surface-areaavg\"\nsession.solver.root.solution.report_definitions.surface[\n    \"outlet-vel-avg\"\n].field = \"velocity-magnitude\"\nsession.solver.root.solution.report_definitions.surface[\n    \"outlet-vel-avg\"\n].surface_names = [\"outlet\"]\n\nsession.solver.tui.define.parameters.enable_in_TUI(\"yes\")\nsession.solver.tui.define.parameters.output_parameters.create(\n    \"report-definition\", \"outlet-temp-avg\"\n)\nsession.solver.tui.define.parameters.output_parameters.create(\n    \"report-definition\", \"outlet-vel-avg\"\n)"
      ]
    },
    {
      "cell_type": "markdown",
      "metadata": {},
      "source": [
        "Enable convergence condition check\n\n"
      ]
    },
    {
      "cell_type": "code",
      "execution_count": null,
      "metadata": {
        "collapsed": false
      },
      "outputs": [],
      "source": [
        "session.solver.tui.solve.monitors.residual.criterion_type(\"0\")"
      ]
    },
    {
      "cell_type": "markdown",
      "metadata": {},
      "source": [
        "Write case with all the settings in place\n\n"
      ]
    },
    {
      "cell_type": "code",
      "execution_count": null,
      "metadata": {
        "collapsed": false
      },
      "outputs": [],
      "source": [
        "case_path = str(Path(pyfluent.EXAMPLES_PATH) / \"Static_Mixer_Parameters.cas.h5\")\nsession.solver.tui.file.write_case(case_path)"
      ]
    },
    {
      "cell_type": "markdown",
      "metadata": {},
      "source": [
        "Instantiate a parametric study from a Fluent session\n\n"
      ]
    },
    {
      "cell_type": "code",
      "execution_count": null,
      "metadata": {
        "collapsed": false
      },
      "outputs": [],
      "source": [
        "study_1 = ParametricStudy(session.solver.root.parametric_studies).initialize()"
      ]
    },
    {
      "cell_type": "markdown",
      "metadata": {},
      "source": [
        "Access and modify input parameters of base DP\n\n"
      ]
    },
    {
      "cell_type": "code",
      "execution_count": null,
      "metadata": {
        "collapsed": false
      },
      "outputs": [],
      "source": [
        "input_parameters_update = study_1.design_points[\"Base DP\"].input_parameters\ninput_parameters_update[\"inlet1_vel\"] = 0.5\nstudy_1.design_points[\"Base DP\"].input_parameters = input_parameters_update"
      ]
    },
    {
      "cell_type": "markdown",
      "metadata": {},
      "source": [
        "Update current design point\n\n"
      ]
    },
    {
      "cell_type": "code",
      "execution_count": null,
      "metadata": {
        "collapsed": false
      },
      "outputs": [],
      "source": [
        "study_1.update_current_design_point()"
      ]
    },
    {
      "cell_type": "markdown",
      "metadata": {},
      "source": [
        "Add a new design point\n\n"
      ]
    },
    {
      "cell_type": "code",
      "execution_count": null,
      "metadata": {
        "collapsed": false
      },
      "outputs": [],
      "source": [
        "design_point_1 = study_1.add_design_point()\ndesign_point_1_input_parameters = study_1.design_points[\"DP1\"].input_parameters\ndesign_point_1_input_parameters[\"inlet1_temp\"] = 500\ndesign_point_1_input_parameters[\"inlet1_vel\"] = 1\ndesign_point_1_input_parameters[\"inlet2_vel\"] = 1\nstudy_1.design_points[\"DP1\"].input_parameters = design_point_1_input_parameters"
      ]
    },
    {
      "cell_type": "markdown",
      "metadata": {},
      "source": [
        "Duplicate design points\n\n"
      ]
    },
    {
      "cell_type": "code",
      "execution_count": null,
      "metadata": {
        "collapsed": false
      },
      "outputs": [],
      "source": [
        "design_point_2 = study_1.duplicate_design_point(design_point_1)"
      ]
    },
    {
      "cell_type": "markdown",
      "metadata": {},
      "source": [
        "Update all design points for study 1\n\n"
      ]
    },
    {
      "cell_type": "code",
      "execution_count": null,
      "metadata": {
        "collapsed": false
      },
      "outputs": [],
      "source": [
        "study_1.update_all_design_points()"
      ]
    },
    {
      "cell_type": "markdown",
      "metadata": {},
      "source": [
        "Export design point table as a CSV table\n\n"
      ]
    },
    {
      "cell_type": "code",
      "execution_count": null,
      "metadata": {
        "collapsed": false
      },
      "outputs": [],
      "source": [
        "design_point_table = str(\n    Path(pyfluent.EXAMPLES_PATH) / \"design_point_table_study_1.csv\"\n)\nstudy_1.export_design_table(design_point_table)"
      ]
    },
    {
      "cell_type": "markdown",
      "metadata": {},
      "source": [
        "Delete design points\n\n"
      ]
    },
    {
      "cell_type": "code",
      "execution_count": null,
      "metadata": {
        "collapsed": false
      },
      "outputs": [],
      "source": [
        "study_1.delete_design_points([design_point_1])"
      ]
    },
    {
      "cell_type": "markdown",
      "metadata": {},
      "source": [
        "Create a new parametric study by duplicating the current one\n\n"
      ]
    },
    {
      "cell_type": "code",
      "execution_count": null,
      "metadata": {
        "collapsed": false
      },
      "outputs": [],
      "source": [
        "study_2 = study_1.duplicate()"
      ]
    },
    {
      "cell_type": "markdown",
      "metadata": {},
      "source": [
        "Rename the newly created parametric study\n\n"
      ]
    },
    {
      "cell_type": "code",
      "execution_count": null,
      "metadata": {
        "collapsed": false
      },
      "outputs": [],
      "source": [
        "study_2.rename(\"New Study\")"
      ]
    },
    {
      "cell_type": "markdown",
      "metadata": {},
      "source": [
        "Delete the old parametric study\n\n"
      ]
    },
    {
      "cell_type": "code",
      "execution_count": null,
      "metadata": {
        "collapsed": false
      },
      "outputs": [],
      "source": [
        "study_1.delete()"
      ]
    },
    {
      "cell_type": "markdown",
      "metadata": {},
      "source": [
        "Save the parametric project and close Fluent\n\n"
      ]
    },
    {
      "cell_type": "code",
      "execution_count": null,
      "metadata": {
        "collapsed": false
      },
      "outputs": [],
      "source": [
        "project_filepath = str(Path(pyfluent.EXAMPLES_PATH) / \"static_mixer_study.flprj\")\n\nsession.solver.tui.file.parametric_project.save_as(project_filepath)\n\nsession.exit()"
      ]
    },
    {
      "cell_type": "markdown",
      "metadata": {},
      "source": [
        "Launch Fluent again and read the previously saved project\n\n"
      ]
    },
    {
      "cell_type": "code",
      "execution_count": null,
      "metadata": {
        "collapsed": false
      },
      "outputs": [],
      "source": [
        "session = pyfluent.launch_fluent(precision=\"double\", processor_count=2)\nproject_filepath_read = str(Path(pyfluent.EXAMPLES_PATH) / \"static_mixer_study.flprj\")\n\nproj = ParametricProject(\n    session.solver.root.file.parametric_project,\n    session.solver.root.parametric_studies,\n    project_filepath_read,\n)"
      ]
    },
    {
      "cell_type": "markdown",
      "metadata": {},
      "source": [
        "Save the current project\n\n"
      ]
    },
    {
      "cell_type": "code",
      "execution_count": null,
      "metadata": {
        "collapsed": false
      },
      "outputs": [],
      "source": [
        "proj.save()"
      ]
    },
    {
      "cell_type": "markdown",
      "metadata": {},
      "source": [
        "Save the current project to a different file name\n\n"
      ]
    },
    {
      "cell_type": "code",
      "execution_count": null,
      "metadata": {
        "collapsed": false
      },
      "outputs": [],
      "source": [
        "project_filepath_save_as = str(\n    Path(pyfluent.EXAMPLES_PATH) / \"static_mixer_study_save_as.flprj\"\n)\nproj.save_as(project_filepath=project_filepath_save_as)"
      ]
    },
    {
      "cell_type": "markdown",
      "metadata": {},
      "source": [
        "Export the current project\n\n"
      ]
    },
    {
      "cell_type": "code",
      "execution_count": null,
      "metadata": {
        "collapsed": false
      },
      "outputs": [],
      "source": [
        "project_filepath_export = str(\n    Path(pyfluent.EXAMPLES_PATH) / \"static_mixer_study_export.flprj\"\n)\nproj.export(project_filepath=project_filepath_export)"
      ]
    },
    {
      "cell_type": "markdown",
      "metadata": {},
      "source": [
        "Archive the current project\n\n"
      ]
    },
    {
      "cell_type": "code",
      "execution_count": null,
      "metadata": {
        "collapsed": false
      },
      "outputs": [],
      "source": [
        "proj.archive()"
      ]
    },
    {
      "cell_type": "markdown",
      "metadata": {},
      "source": [
        "Close Fluent\n\n"
      ]
    },
    {
      "cell_type": "code",
      "execution_count": null,
      "metadata": {
        "collapsed": false
      },
      "outputs": [],
      "source": [
        "session.exit()"
      ]
    }
  ],
  "metadata": {
    "kernelspec": {
      "display_name": "Python 3",
      "language": "python",
      "name": "python3"
    },
    "language_info": {
      "codemirror_mode": {
        "name": "ipython",
        "version": 3
      },
      "file_extension": ".py",
      "mimetype": "text/x-python",
      "name": "python",
      "nbconvert_exporter": "python",
      "pygments_lexer": "ipython3",
      "version": "3.8.16"
    }
  },
  "nbformat": 4,
  "nbformat_minor": 0
}